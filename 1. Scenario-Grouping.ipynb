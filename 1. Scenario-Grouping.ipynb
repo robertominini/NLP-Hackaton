{
 "cells": [
  {
   "cell_type": "markdown",
   "metadata": {},
   "source": [
    "# 1. Scenario Grouping"
   ]
  },
  {
   "cell_type": "markdown",
   "metadata": {},
   "source": [
    "Clearly, we needed a more scientific way to group the scenarios.\n",
    "We started by retrieving some information about the model's misclassifications."
   ]
  },
  {
   "cell_type": "code",
   "execution_count": null,
   "metadata": {},
   "outputs": [],
   "source": [
    "import pandas as pd\n",
    "import numpy as np\n",
    "import networkx as nx\n",
    "from graph import *\n",
    "from SimAnn import SimAnnProbl, simann\n",
    "df = pd.read_csv(\"LSVC.csv\")\n",
    "df = df.drop(\"index\", axis = 1)\n",
    "nrows = df.shape[0]\n",
    "\n",
    "accuracies = {}\n",
    "\n",
    "##### ACCURACIES FOR EACH SCENARIO\n",
    "for context in set(df[\"label\"]):\n",
    "    correct = len(df[df[\"correct\"]==True][df[\"label\"]==context])\n",
    "    total = len(df[df[\"label\"]==context])\n",
    "    accuracies[context] = correct/total\n",
    "\n",
    "    \n",
    "#### CREATES A DICTIONARY WHERE EACH SCENARIO IS ASSOCIATED WITH A TUPLE CONTAINING \n",
    "#### THE WRONG SCENARIO THAT THE MODEL PREDICTED AND THE PERCENTAGE OF QUESTIONS OF THAT SCENARIO\n",
    "#### WRONGLY PREDICTED WITH SAID WRONG SCENARIO (ONLY DOES IT IF THIS PERCENTAGE IS > 2%)\n",
    "common_misclassifications = {}\n",
    "for context in set(df[\"label\"]):\n",
    "    errors = df[df[\"label\"]==context][df[\"correct\"]==False]\n",
    "    common_misclassifications[context] = list(filter(\n",
    "        lambda x: x[1]>0.02,sorted([(sc, \n",
    "        np.sum(errors[\"prediction\"]==sc)/len(df[df[\"label\"]==context]))\n",
    "        for sc in set(df[\"label\"])], key = lambda x: x[1], reverse = True)))\n",
    "\n",
    "def explain():\n",
    "    print(\"Common Misclassifications\")\n",
    "    print()\n",
    "    for context in set(df[\"label\"]):\n",
    "        print(f\"--- CONTEXT: {context} ---\")\n",
    "        for c in common_misclassifications[context]:\n",
    "            print(f\"{c[0]}: {c[1]}\")\n",
    "        print()\n",
    "        "
   ]
  },
  {
   "cell_type": "markdown",
   "metadata": {},
   "source": [
    "This information is certaintly useful, but now we need an algorithm capbable of using this information to construct an optimal grouping for the scenarios. Too many groups will make it hard on the scenario classifier, while too few groups will make it hard for the intent classifier. We started by plotting the misclassifications on a graph. The nodes represent the scenarios, an edge from scenario A to scenario B means that scenario A often gets misclassified as scenario B. The edge weight (not shown here) is the percentage of questions of scenario A wrongly classified as belonging to scenario B."
   ]
  },
  {
   "cell_type": "code",
   "execution_count": null,
   "metadata": {},
   "outputs": [],
   "source": [
    "graph = nx.DiGraph()\n",
    "for scenario in set(df[\"label\"]):\n",
    "    for miscls in common_misclassifications[scenario]:\n",
    "        graph.add_edge(scenario, miscls[0], weight = miscls[1])\n",
    "    \n",
    "def draw():\n",
    "    nx.draw_networkx(graph)\n"
   ]
  },
  {
   "cell_type": "markdown",
   "metadata": {},
   "source": [
    "Even though the graph does not seem to convey much additional information, we managed to find a way to use this representation to obtain a better grouping.\n",
    "\n",
    "Start with the above described graph, our objective is to obtain a second graph by contracting the nodes in such a way as to reflect the outcome of grouping the scenarios on the classification process.\n",
    "We have observed that, when two scenarios A and B are grouped together, the percentage of misclassifications from AB to C decrease, but the percentage of misclassifications from C to AB increases. We have defined an empirical rule for the edges ingoing and outgoing from a contracted node as:"
   ]
  },
  {
   "cell_type": "markdown",
   "metadata": {},
   "source": [
    "$$ w(AB, C) = min(w(A, C), w(B, C)) $$\n",
    "\n",
    "$$ w(C, AB) = w(A, C) + w(B, C) $$"
   ]
  },
  {
   "cell_type": "markdown",
   "metadata": {},
   "source": [
    "We want to perform a series of node contraction in order to minimize a cost function. We have defined the cost function to be:"
   ]
  },
  {
   "cell_type": "markdown",
   "metadata": {},
   "source": [
    "$$ L = \\frac{1}{n-k}\\sum_{e \\in E}w_e $$"
   ]
  },
  {
   "cell_type": "markdown",
   "metadata": {},
   "source": [
    "Where $n$ is the number of nodes (groups), $k$ is a penalization for an excessive amount of groups, and $w_e$ is the weight of edge $e$. Basically, we want to minimize the weights in the graph, but at the same time taking into account also the number of groups.\n",
    "\n",
    "As for the minimization method, we used Monte Carlo Markov Chain optimization through the Simulated Annealing algorithm, where set the kernel to be a random contraction in the graph."
   ]
  },
  {
   "cell_type": "code",
   "execution_count": null,
   "metadata": {},
   "outputs": [],
   "source": [
    "from collections import defaultdict\n",
    "from SimAnn import SimAnnProbl, simann\n",
    "import random\n",
    "\n",
    "class Graph:\n",
    "    def __init__(self):\n",
    "        self.vertices = []\n",
    "        self.edges = defaultdict(dict)\n",
    "        \n",
    "    def add_edge(self, v1: str, v2: str, w: float):\n",
    "        if v1 not in self.vertices:\n",
    "            self.vertices.append(v1)\n",
    "        if v2 not in self.vertices:\n",
    "            self.vertices.append(v2)\n",
    "        self.edges[v1][v2] = w\n",
    "        \n",
    "    def merge(self, v1: str, v2: str):\n",
    "        print(f\"merging {v1} and {v2}\")\n",
    "        # remove edges between v1 and v2\n",
    "        self.edges[v1].pop(v2, 0)\n",
    "        self.edges[v2].pop(v1, 0)\n",
    "        \n",
    "        # create new vertex\n",
    "        self.vertices.remove(v1)\n",
    "        self.vertices.remove(v2)\n",
    "        new = v1+\"/\"+v2\n",
    "        self.vertices.append(new)\n",
    "        \n",
    "        # outgoing edges: w(ab, v) = min(w(a, v), w(b, v))\n",
    "        for v in self.vertices:\n",
    "            wav = self.edges[v1].pop(v, float(\"inf\"))\n",
    "            wbv = self.edges[v2].pop(v, float(\"inf\"))\n",
    "            if wav != float(\"inf\") and wbv != float(\"inf\"):\n",
    "                self.edges[new][v] = min(wav, wbv)\n",
    "        \n",
    "        # ingoing edges: w(v, ab) = w(v, a) + w(v, b)\n",
    "        for v in self.vertices:\n",
    "            wva = self.edges[v].pop(v1, 0)\n",
    "            wvb = self.edges[v].pop(v2, 0)\n",
    "            if wva + wvb != 0:\n",
    "                self.edges[v][new] = wva + wvb\n",
    "                \n",
    "    def total_cost(self):\n",
    "        c = 0\n",
    "        for v1 in self.vertices:\n",
    "            for v2 in self.vertices:\n",
    "                c += self.edges[v1].get(v2, 0)\n",
    "        return c/(len(self.vertices)-2) #cost function with k=2\n",
    "    \n",
    "\n",
    "class MisclassificationProblem(SimAnnProbl):\n",
    "    def __init__(self, graph: Graph):\n",
    "        self.graph = graph\n",
    "    def cost(self):\n",
    "        return self.graph.total_cost()\n",
    "    def propose_move(self):\n",
    "        while True:\n",
    "            v1 = random.choice(self.graph.vertices)\n",
    "            if len(self.graph.edges[v1])>0:\n",
    "                v2 = random.choice(list(self.graph.edges[v1].keys()))\n",
    "                return (v1, v2)\n",
    "    def accept_move(self, move):\n",
    "        v1, v2 = move\n",
    "        self.graph.merge(v1, v2)\n",
    "    def copy(self):\n",
    "        g = Graph()\n",
    "        g.edges = self.graph.edges.copy()\n",
    "        g.vertices = self.graph.vertices.copy()\n",
    "        return MisclassificationProblem(g)\n",
    "    def compute_delta_cost(self, move):\n",
    "        a, b = move\n",
    "        n = len(self.graph.vertices)-2\n",
    "        delta = 0\n",
    "        delta += self.graph.edges[a].get(b, 0)\n",
    "        delta += self.graph.edges[b].get(a, 0)\n",
    "        for v in self.graph.vertices:\n",
    "            if v != a and v!= b:\n",
    "                wav = self.graph.edges[a].get(v, float(\"inf\"))\n",
    "                wbv = self.graph.edges[b].get(v, float(\"inf\"))\n",
    "                m = max(wav, wbv)\n",
    "                if m != float(\"inf\"):\n",
    "                    delta += m\n",
    "        c = self.graph.total_cost()\n",
    "        return (c-delta)/(n-1)"
   ]
  },
  {
   "cell_type": "markdown",
   "metadata": {},
   "source": [
    "Now we are ready to use this optimization method to obtain the optimal grouping."
   ]
  },
  {
   "cell_type": "code",
   "execution_count": null,
   "metadata": {},
   "outputs": [],
   "source": [
    "g = Graph()\n",
    "for scenario in set(df[\"label\"]):\n",
    "    for miscls in common_misclassifications[scenario]:\n",
    "        g.add_edge(scenario, miscls[0], miscls[1])\n",
    "        \n",
    "probl = MisclassificationProblem(g)\n",
    "\n",
    "def run_simann():\n",
    "    simann(probl, beta0=2.0, beta1=100.0, anneal_steps=10, mcmc_steps=10**3)\n",
    "\n",
    "\n",
    "# g.vertices contains the optimal grouping"
   ]
  }
 ],
 "metadata": {
  "kernelspec": {
   "display_name": "Python 3",
   "language": "python",
   "name": "python3"
  },
  "language_info": {
   "codemirror_mode": {
    "name": "ipython",
    "version": 3
   },
   "file_extension": ".py",
   "mimetype": "text/x-python",
   "name": "python",
   "nbconvert_exporter": "python",
   "pygments_lexer": "ipython3",
   "version": "3.7.6"
  }
 },
 "nbformat": 4,
 "nbformat_minor": 4
}
